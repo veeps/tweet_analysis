{
 "cells": [
  {
   "cell_type": "markdown",
   "metadata": {},
   "source": [
    "# Pulling Tweets from WHO"
   ]
  },
  {
   "cell_type": "code",
   "execution_count": 8,
   "metadata": {},
   "outputs": [],
   "source": [
    "# Import libbraries\n",
    "import os, sys, subprocess\n",
    "import json\n",
    "import pandas as pd\n",
    "import numpy as np\n",
    "from langdetect import detect\n",
    "import pickle\n",
    "\n",
    "pd.set_option('display.max_colwidth', -1)\n",
    "\n",
    "pd.set_option('display.max_rows', 1000)\n",
    "#pd.set_option('display.max_columns', 500)"
   ]
  },
  {
   "cell_type": "code",
   "execution_count": 13,
   "metadata": {},
   "outputs": [
    {
     "data": {
      "text/plain": [
       "{'project_module_relative_path': 'src'}"
      ]
     },
     "execution_count": 13,
     "metadata": {},
     "output_type": "execute_result"
    }
   ],
   "source": [
    "# load project config\n",
    "\n",
    "terminal_call = ! git rev-parse --show-toplevel\n",
    "repo_path=terminal_call[0]\n",
    "project_config_path = os.path.join(repo_path,'project_config.json')\n",
    "\n",
    "with open(project_config_path,'r') as fp: \n",
    "    project_config = json.load(fp)\n",
    "\n",
    "\n",
    "project_config"
   ]
  },
  {
   "cell_type": "code",
   "execution_count": 14,
   "metadata": {},
   "outputs": [],
   "source": [
    "# import custom scraper module\n",
    "\n",
    "module_path = os.path.join(repo_path,project_config['project_module_relative_path'])\n",
    "sys.path.append(module_path)\n",
    "\n",
    "import scraper\n",
    "from scraper import tweet_scraper\n",
    "\n",
    "from importlib import reload"
   ]
  },
  {
   "cell_type": "markdown",
   "metadata": {},
   "source": [
    "## Pull Tweets for a year"
   ]
  },
  {
   "cell_type": "code",
   "execution_count": 4,
   "metadata": {},
   "outputs": [],
   "source": [
    "# get tweets from WHO for a year from this date\n",
    "df = tweet_scraper.pull_tweets('WHO', '2019-06-01', '2020-06-01')"
   ]
  },
  {
   "cell_type": "code",
   "execution_count": 5,
   "metadata": {},
   "outputs": [],
   "source": [
    "# rename columns\n",
    "df.rename(columns={0:\"date\",\n",
    "          1:\"text\"}, inplace = True)"
   ]
  },
  {
   "cell_type": "code",
   "execution_count": 6,
   "metadata": {},
   "outputs": [],
   "source": [
    "# set column types\n",
    "df['text'] = df['text'].astype(str)\n",
    "df['date'] = pd.to_datetime(df['date'])"
   ]
  },
  {
   "cell_type": "markdown",
   "metadata": {},
   "source": [
    "## Pickle for later use"
   ]
  },
  {
   "cell_type": "code",
   "execution_count": 29,
   "metadata": {},
   "outputs": [],
   "source": [
    "pickle.dump(df, open(\"../data/who_tweets.pkl\", \"wb\"))"
   ]
  },
  {
   "cell_type": "markdown",
   "metadata": {},
   "source": [
    "## Clean Tweets"
   ]
  },
  {
   "cell_type": "code",
   "execution_count": 23,
   "metadata": {},
   "outputs": [],
   "source": [
    "# Reload package when I make updates to function\n",
    "# reload(tweet_scraper)"
   ]
  },
  {
   "cell_type": "code",
   "execution_count": 22,
   "metadata": {},
   "outputs": [
    {
     "data": {
      "text/html": [
       "<div>\n",
       "<style scoped>\n",
       "    .dataframe tbody tr th:only-of-type {\n",
       "        vertical-align: middle;\n",
       "    }\n",
       "\n",
       "    .dataframe tbody tr th {\n",
       "        vertical-align: top;\n",
       "    }\n",
       "\n",
       "    .dataframe thead th {\n",
       "        text-align: right;\n",
       "    }\n",
       "</style>\n",
       "<table border=\"1\" class=\"dataframe\">\n",
       "  <thead>\n",
       "    <tr style=\"text-align: right;\">\n",
       "      <th></th>\n",
       "      <th>date</th>\n",
       "      <th>text</th>\n",
       "    </tr>\n",
       "  </thead>\n",
       "  <tbody>\n",
       "    <tr>\n",
       "      <th>0</th>\n",
       "      <td>2020-05-31 19:50:07+00:00</td>\n",
       "      <td>there has never been a better time to quit smoking puts you at higher risk for a severe case of and a lot of other diseases that kill you</td>\n",
       "    </tr>\n",
       "    <tr>\n",
       "      <th>1</th>\n",
       "      <td>2020-05-31 19:23:26+00:00</td>\n",
       "      <td>quit now and breath easy within minutes of quitting your blood pressure drops after hours carbon monoxide levels in the bloodstream drops to normal within weeks your circulation improves and lung function increases</td>\n",
       "    </tr>\n",
       "    <tr>\n",
       "      <th>2</th>\n",
       "      <td>2020-05-31 19:00:46+00:00</td>\n",
       "      <td>on organize your own workshop to educate people around you spread awareness and create a tobacco free generation speak out workshop toolkit</td>\n",
       "    </tr>\n",
       "    <tr>\n",
       "      <th>3</th>\n",
       "      <td>2020-05-31 17:12:43+00:00</td>\n",
       "      <td>to help over billion tobacco users quit who is launching florence a digital health worker that combats misinformation about and tobacco and gives recommendations and tips for quitting</td>\n",
       "    </tr>\n",
       "    <tr>\n",
       "      <th>4</th>\n",
       "      <td>2020-05-31 16:41:11+00:00</td>\n",
       "      <td>quit today tips to curb your cravings delay as long as you can before giving in to your urge take deep breaths to relax yourself until the urge passes drinking is a healthy alternative do something else to distract yourself</td>\n",
       "    </tr>\n",
       "    <tr>\n",
       "      <th>...</th>\n",
       "      <td>...</td>\n",
       "      <td>...</td>\n",
       "    </tr>\n",
       "    <tr>\n",
       "      <th>6578</th>\n",
       "      <td>2019-06-03 12:57:48+00:00</td>\n",
       "      <td>well done you karolina enjoy</td>\n",
       "    </tr>\n",
       "    <tr>\n",
       "      <th>6579</th>\n",
       "      <td>2019-06-03 12:55:00+00:00</td>\n",
       "      <td>of road traffic deaths are pedestrians cyclists and motorcyclists</td>\n",
       "    </tr>\n",
       "    <tr>\n",
       "      <th>6581</th>\n",
       "      <td>2019-06-03 11:24:47+00:00</td>\n",
       "      <td>cycling is a simple affordable reliable clean and sustainable means of transportation that is both good for your health and the environment</td>\n",
       "    </tr>\n",
       "    <tr>\n",
       "      <th>6582</th>\n",
       "      <td>2019-06-03 10:46:48+00:00</td>\n",
       "      <td>cycling is a form of physical activity physical activity helps prevent heart disease stroke diabetes and some cancers and also helps prevent obesity and improves mental health and well being ride your bike to</td>\n",
       "    </tr>\n",
       "    <tr>\n",
       "      <th>6583</th>\n",
       "      <td>2019-06-03 10:29:10+00:00</td>\n",
       "      <td>its cycling is healthy and environmentally friendly do you cycle to school to work to see your friends tell us your cycling story</td>\n",
       "    </tr>\n",
       "  </tbody>\n",
       "</table>\n",
       "<p>6198 rows × 2 columns</p>\n",
       "</div>"
      ],
      "text/plain": [
       "                          date  \\\n",
       "0    2020-05-31 19:50:07+00:00   \n",
       "1    2020-05-31 19:23:26+00:00   \n",
       "2    2020-05-31 19:00:46+00:00   \n",
       "3    2020-05-31 17:12:43+00:00   \n",
       "4    2020-05-31 16:41:11+00:00   \n",
       "...                        ...   \n",
       "6578 2019-06-03 12:57:48+00:00   \n",
       "6579 2019-06-03 12:55:00+00:00   \n",
       "6581 2019-06-03 11:24:47+00:00   \n",
       "6582 2019-06-03 10:46:48+00:00   \n",
       "6583 2019-06-03 10:29:10+00:00   \n",
       "\n",
       "                                                                                                                                                                                                                                  text  \n",
       "0     there has never been a better time to quit smoking puts you at higher risk for a severe case of and a lot of other diseases that kill you                                                                                         \n",
       "1     quit now and breath easy within minutes of quitting your blood pressure drops after hours carbon monoxide levels in the bloodstream drops to normal within weeks your circulation improves and lung function increases            \n",
       "2     on organize your own workshop to educate people around you spread awareness and create a tobacco free generation speak out workshop toolkit                                                                                       \n",
       "3     to help over billion tobacco users quit who is launching florence a digital health worker that combats misinformation about and tobacco and gives recommendations and tips for quitting                                           \n",
       "4     quit today tips to curb your cravings delay as long as you can before giving in to your urge take deep breaths to relax yourself until the urge passes drinking is a healthy alternative do something else to distract yourself   \n",
       "...                                                                                                                                                                                                                                ...  \n",
       "6578  well done you karolina enjoy                                                                                                                                                                                                      \n",
       "6579   of road traffic deaths are pedestrians cyclists and motorcyclists                                                                                                                                                                \n",
       "6581  cycling is a simple affordable reliable clean and sustainable means of transportation that is both good for your health and the environment                                                                                       \n",
       "6582  cycling is a form of physical activity physical activity helps prevent heart disease stroke diabetes and some cancers and also helps prevent obesity and improves mental health and well being ride your bike to                  \n",
       "6583  its cycling is healthy and environmentally friendly do you cycle to school to work to see your friends tell us your cycling story                                                                                                 \n",
       "\n",
       "[6198 rows x 2 columns]"
      ]
     },
     "execution_count": 22,
     "metadata": {},
     "output_type": "execute_result"
    }
   ],
   "source": [
    "# Clean tweet column\n",
    "tweet_scraper.clean_tweets(df, 'text')"
   ]
  },
  {
   "cell_type": "code",
   "execution_count": null,
   "metadata": {},
   "outputs": [],
   "source": []
  },
  {
   "cell_type": "code",
   "execution_count": null,
   "metadata": {},
   "outputs": [],
   "source": []
  },
  {
   "cell_type": "code",
   "execution_count": null,
   "metadata": {},
   "outputs": [],
   "source": []
  }
 ],
 "metadata": {
  "kernelspec": {
   "display_name": "Python 3",
   "language": "python",
   "name": "python3"
  },
  "language_info": {
   "codemirror_mode": {
    "name": "ipython",
    "version": 3
   },
   "file_extension": ".py",
   "mimetype": "text/x-python",
   "name": "python",
   "nbconvert_exporter": "python",
   "pygments_lexer": "ipython3",
   "version": "3.7.4"
  }
 },
 "nbformat": 4,
 "nbformat_minor": 2
}
