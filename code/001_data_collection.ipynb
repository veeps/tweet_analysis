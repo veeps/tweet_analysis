{
 "cells": [
  {
   "cell_type": "markdown",
   "metadata": {},
   "source": [
    "# Pulling Tweets from WHO"
   ]
  },
  {
   "cell_type": "code",
   "execution_count": 7,
   "metadata": {},
   "outputs": [],
   "source": [
    "import os, sys, subprocess\n",
    "import json\n"
   ]
  },
  {
   "cell_type": "code",
   "execution_count": 8,
   "metadata": {},
   "outputs": [
    {
     "data": {
      "text/plain": [
       "{'project_module_relative_path': 'src'}"
      ]
     },
     "execution_count": 8,
     "metadata": {},
     "output_type": "execute_result"
    }
   ],
   "source": [
    "# load project config\n",
    "\n",
    "terminal_call = ! git rev-parse --show-toplevel\n",
    "repo_path=terminal_call[0]\n",
    "project_config_path = os.path.join(repo_path,'project_config.json')\n",
    "\n",
    "with open(project_config_path,'r') as fp: \n",
    "    project_config = json.load(fp)\n",
    "\n",
    "\n",
    "project_config"
   ]
  },
  {
   "cell_type": "code",
   "execution_count": 9,
   "metadata": {},
   "outputs": [
    {
     "ename": "IndentationError",
     "evalue": "unindent does not match any outer indentation level (tweet_scraper.py, line 14)",
     "output_type": "error",
     "traceback": [
      "Traceback \u001b[0;36m(most recent call last)\u001b[0m:\n",
      "  File \u001b[1;32m\"/opt/anaconda3/lib/python3.7/site-packages/IPython/core/interactiveshell.py\"\u001b[0m, line \u001b[1;32m3326\u001b[0m, in \u001b[1;35mrun_code\u001b[0m\n    exec(code_obj, self.user_global_ns, self.user_ns)\n",
      "\u001b[0;36m  File \u001b[0;32m\"<ipython-input-9-03c7e886a4cd>\"\u001b[0;36m, line \u001b[0;32m8\u001b[0;36m, in \u001b[0;35m<module>\u001b[0;36m\u001b[0m\n\u001b[0;31m    from scraper import tweet_scraper\u001b[0m\n",
      "\u001b[0;36m  File \u001b[0;32m\"/Users/vivianpeng/git/tweet_analysis/src/scraper/tweet_scraper.py\"\u001b[0;36m, line \u001b[0;32m14\u001b[0m\n\u001b[0;31m    tweetCriteria = got.manager.TweetCriteria().setUsername(username).setSince(start_date).setUntil(end_date).setMaxTweets(count)\u001b[0m\n\u001b[0m                                                                                                                                 ^\u001b[0m\n\u001b[0;31mIndentationError\u001b[0m\u001b[0;31m:\u001b[0m unindent does not match any outer indentation level\n"
     ]
    }
   ],
   "source": [
    "# import scraper module\n",
    "\n",
    "# todo: update this with proper library and setup.py \n",
    "module_path = os.path.join(repo_path,project_config['project_module_relative_path'])\n",
    "sys.path.append(module_path)\n",
    "\n",
    "import scraper\n",
    "from scraper import tweet_scraper\n",
    "\n",
    "from importlib import reload"
   ]
  },
  {
   "cell_type": "markdown",
   "metadata": {},
   "source": [
    "## Set up Query"
   ]
  },
  {
   "cell_type": "code",
   "execution_count": 4,
   "metadata": {},
   "outputs": [],
   "source": [
    "def pull_tweets(username, count, start_date, end_date):\n",
    "    # Creation of query object\n",
    "    tweetCriteria = got.manager.TweetCriteria().setUsername(username).setSince(start_date).setUntil(end_date).setMaxTweets(count)\n",
    "\n",
    "    # Creation of list that contains all tweets\n",
    "    tweets = got.manager.TweetManager.getTweets(tweetCriteria)\n",
    "\n",
    "    # Create df for tweets\n",
    "    user_tweets = pd.DataFrame([[tweet.date, tweet.text] for tweet in tweets])\n",
    "    \n",
    "    return user_tweets"
   ]
  },
  {
   "cell_type": "code",
   "execution_count": 5,
   "metadata": {},
   "outputs": [
    {
     "data": {
      "text/html": [
       "<div>\n",
       "<style scoped>\n",
       "    .dataframe tbody tr th:only-of-type {\n",
       "        vertical-align: middle;\n",
       "    }\n",
       "\n",
       "    .dataframe tbody tr th {\n",
       "        vertical-align: top;\n",
       "    }\n",
       "\n",
       "    .dataframe thead th {\n",
       "        text-align: right;\n",
       "    }\n",
       "</style>\n",
       "<table border=\"1\" class=\"dataframe\">\n",
       "  <thead>\n",
       "    <tr style=\"text-align: right;\">\n",
       "      <th></th>\n",
       "      <th>0</th>\n",
       "      <th>1</th>\n",
       "    </tr>\n",
       "  </thead>\n",
       "  <tbody>\n",
       "    <tr>\n",
       "      <th>0</th>\n",
       "      <td>2020-03-30 21:48:34+00:00</td>\n",
       "      <td>Now available! New guidelines to help countrie...</td>\n",
       "    </tr>\n",
       "    <tr>\n",
       "      <th>1</th>\n",
       "      <td>2020-03-30 15:18:36+00:00</td>\n",
       "      <td>The full briefing on #COVID19 by @DrTedros</td>\n",
       "    </tr>\n",
       "    <tr>\n",
       "      <th>2</th>\n",
       "      <td>2020-03-30 15:06:33+00:00</td>\n",
       "      <td>\"In the eye of a storm like #COVID19, scientif...</td>\n",
       "    </tr>\n",
       "    <tr>\n",
       "      <th>3</th>\n",
       "      <td>2020-03-30 15:06:07+00:00</td>\n",
       "      <td>\"Yesterday I sent a tweet with a single word: ...</td>\n",
       "    </tr>\n",
       "    <tr>\n",
       "      <th>4</th>\n",
       "      <td>2020-03-30 15:05:08+00:00</td>\n",
       "      <td>\"We continue to be encouraged by the signs of ...</td>\n",
       "    </tr>\n",
       "    <tr>\n",
       "      <th>...</th>\n",
       "      <td>...</td>\n",
       "      <td>...</td>\n",
       "    </tr>\n",
       "    <tr>\n",
       "      <th>2084</th>\n",
       "      <td>2020-01-01 20:03:44+00:00</td>\n",
       "      <td>Healthy resolution No. 8: #RoadSafety #HappyNe...</td>\n",
       "    </tr>\n",
       "    <tr>\n",
       "      <th>2085</th>\n",
       "      <td>2020-01-01 17:57:42+00:00</td>\n",
       "      <td>Healthy resolution No. 7: #HandHygiene #HappyN...</td>\n",
       "    </tr>\n",
       "    <tr>\n",
       "      <th>2086</th>\n",
       "      <td>2020-01-01 16:38:00+00:00</td>\n",
       "      <td>Healthy resolution No. 6: Manage stress. #Ment...</td>\n",
       "    </tr>\n",
       "    <tr>\n",
       "      <th>2087</th>\n",
       "      <td>2020-01-01 15:23:45+00:00</td>\n",
       "      <td>Healthy resolution No. 5: Limit use of alcohol...</td>\n",
       "    </tr>\n",
       "    <tr>\n",
       "      <th>2088</th>\n",
       "      <td>2020-01-01 12:15:34+00:00</td>\n",
       "      <td>Healthy resolution No. 4: Say #NoTobacco #Happ...</td>\n",
       "    </tr>\n",
       "  </tbody>\n",
       "</table>\n",
       "<p>2089 rows × 2 columns</p>\n",
       "</div>"
      ],
      "text/plain": [
       "                             0  \\\n",
       "0    2020-03-30 21:48:34+00:00   \n",
       "1    2020-03-30 15:18:36+00:00   \n",
       "2    2020-03-30 15:06:33+00:00   \n",
       "3    2020-03-30 15:06:07+00:00   \n",
       "4    2020-03-30 15:05:08+00:00   \n",
       "...                        ...   \n",
       "2084 2020-01-01 20:03:44+00:00   \n",
       "2085 2020-01-01 17:57:42+00:00   \n",
       "2086 2020-01-01 16:38:00+00:00   \n",
       "2087 2020-01-01 15:23:45+00:00   \n",
       "2088 2020-01-01 12:15:34+00:00   \n",
       "\n",
       "                                                      1  \n",
       "0     Now available! New guidelines to help countrie...  \n",
       "1           The full briefing on #COVID19 by @DrTedros   \n",
       "2     \"In the eye of a storm like #COVID19, scientif...  \n",
       "3     \"Yesterday I sent a tweet with a single word: ...  \n",
       "4     \"We continue to be encouraged by the signs of ...  \n",
       "...                                                 ...  \n",
       "2084  Healthy resolution No. 8: #RoadSafety #HappyNe...  \n",
       "2085  Healthy resolution No. 7: #HandHygiene #HappyN...  \n",
       "2086  Healthy resolution No. 6: Manage stress. #Ment...  \n",
       "2087  Healthy resolution No. 5: Limit use of alcohol...  \n",
       "2088  Healthy resolution No. 4: Say #NoTobacco #Happ...  \n",
       "\n",
       "[2089 rows x 2 columns]"
      ]
     },
     "execution_count": 5,
     "metadata": {},
     "output_type": "execute_result"
    }
   ],
   "source": [
    "pull_tweets('WHO', 3000, '2020-01-01', '2020-03-31')"
   ]
  },
  {
   "cell_type": "code",
   "execution_count": 53,
   "metadata": {},
   "outputs": [],
   "source": [
    "username = 'WHO'\n",
    "count = 3000\n",
    "since_date = '2020-01-01'\n",
    "until_date = '2020-03-31'\n",
    "\n",
    "# Creation of query object\n",
    "tweetCriteria = got.manager.TweetCriteria().setUsername(username).setSince(since_date).setUntil(until_date).setMaxTweets(count)\n",
    "\n",
    "# Creation of list that contains all tweets\n",
    "tweets = got.manager.TweetManager.getTweets(tweetCriteria)\n",
    "\n",
    "# Create df for tweets\n",
    "user_tweets = pd.DataFrame([[tweet.date, tweet.text] for tweet in tweets])"
   ]
  },
  {
   "cell_type": "code",
   "execution_count": 54,
   "metadata": {},
   "outputs": [
    {
     "data": {
      "text/plain": [
       "(2089, 2)"
      ]
     },
     "execution_count": 54,
     "metadata": {},
     "output_type": "execute_result"
    }
   ],
   "source": [
    "user_tweets.shape"
   ]
  },
  {
   "cell_type": "markdown",
   "metadata": {},
   "source": [
    "## Write to CSV"
   ]
  },
  {
   "cell_type": "code",
   "execution_count": 55,
   "metadata": {},
   "outputs": [],
   "source": [
    "user_tweets.to_csv(\"../data/jan_march_2020.csv\", index = False)"
   ]
  },
  {
   "cell_type": "code",
   "execution_count": null,
   "metadata": {},
   "outputs": [],
   "source": []
  }
 ],
 "metadata": {
  "kernelspec": {
   "display_name": "Python 3",
   "language": "python",
   "name": "python3"
  },
  "language_info": {
   "codemirror_mode": {
    "name": "ipython",
    "version": 3
   },
   "file_extension": ".py",
   "mimetype": "text/x-python",
   "name": "python",
   "nbconvert_exporter": "python",
   "pygments_lexer": "ipython3",
   "version": "3.7.4"
  }
 },
 "nbformat": 4,
 "nbformat_minor": 2
}
